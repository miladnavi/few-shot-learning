{
  "nbformat": 4,
  "nbformat_minor": 0,
  "metadata": {
    "colab": {
      "name": "Untitled1.ipynb",
      "provenance": [],
      "collapsed_sections": [],
      "authorship_tag": "ABX9TyMwHz5H9Z7rlA3xnTwtge1X"
    },
    "kernelspec": {
      "name": "python3",
      "display_name": "Python 3"
    },
    "accelerator": "GPU"
  },
  "cells": [
    {
      "cell_type": "code",
      "metadata": {
        "id": "1gUcWquYt3-E",
        "colab_type": "code",
        "colab": {}
      },
      "source": [
        "! git clone https://github.com/miladnavi/few-shot-learning"
      ],
      "execution_count": 0,
      "outputs": []
    },
    {
      "cell_type": "code",
      "metadata": {
        "id": "J50t_Po3t9JE",
        "colab_type": "code",
        "outputId": "b7a982df-a636-4704-884b-6bb148053286",
        "colab": {
          "base_uri": "https://localhost:8080/",
          "height": 34
        }
      },
      "source": [
        "% cd few-shot-learning/"
      ],
      "execution_count": 2,
      "outputs": [
        {
          "output_type": "stream",
          "text": [
            "/content/few-shot-learning\n"
          ],
          "name": "stdout"
        }
      ]
    },
    {
      "cell_type": "code",
      "metadata": {
        "id": "n9rf6_TD86jt",
        "colab_type": "code",
        "colab": {}
      },
      "source": [
        "! pip install -r requirements.txt"
      ],
      "execution_count": 0,
      "outputs": []
    },
    {
      "cell_type": "markdown",
      "metadata": {
        "id": "SqYm4lKVciI3",
        "colab_type": "text"
      },
      "source": [
        "# Generate Few Shot Dataset"
      ]
    },
    {
      "cell_type": "code",
      "metadata": {
        "id": "a22ai_3EcpuR",
        "colab_type": "code",
        "colab": {}
      },
      "source": [
        "!python few_shot_generator.py --dataset mnist "
      ],
      "execution_count": 0,
      "outputs": []
    },
    {
      "cell_type": "code",
      "metadata": {
        "id": "8tihFPwFuALE",
        "colab_type": "code",
        "colab": {}
      },
      "source": [
        "!python few_shot_generator.py --dataset fashion_mnist "
      ],
      "execution_count": 0,
      "outputs": []
    },
    {
      "cell_type": "code",
      "metadata": {
        "id": "uYlOGxMjcytY",
        "colab_type": "code",
        "colab": {}
      },
      "source": [
        "!python few_shot_generator.py --dataset cifar"
      ],
      "execution_count": 0,
      "outputs": []
    },
    {
      "cell_type": "markdown",
      "metadata": {
        "id": "nXw6Mi7fa9ep",
        "colab_type": "text"
      },
      "source": [
        "# Train on whole Dataset"
      ]
    },
    {
      "cell_type": "code",
      "metadata": {
        "id": "Jv6L10SYaoFm",
        "colab_type": "code",
        "colab": {}
      },
      "source": [
        "! python mnist/mnist_train.py"
      ],
      "execution_count": 0,
      "outputs": []
    },
    {
      "cell_type": "code",
      "metadata": {
        "id": "4sJmW2avcuEC",
        "colab_type": "code",
        "colab": {}
      },
      "source": [
        "! python fashion_mnist/fashion_mnist_train.py"
      ],
      "execution_count": 0,
      "outputs": []
    },
    {
      "cell_type": "code",
      "metadata": {
        "id": "YqkpnJFNa0z6",
        "colab_type": "code",
        "colab": {}
      },
      "source": [
        "! python cifar/cifar_train.py"
      ],
      "execution_count": 0,
      "outputs": []
    },
    {
      "cell_type": "markdown",
      "metadata": {
        "id": "a9a7T_HtbHVZ",
        "colab_type": "text"
      },
      "source": [
        "# Train Few Shot (10-shot)"
      ]
    },
    {
      "cell_type": "code",
      "metadata": {
        "id": "CDVEFiIzbOAN",
        "colab_type": "code",
        "colab": {}
      },
      "source": [
        "! python mnist/few_shot_train.py"
      ],
      "execution_count": 0,
      "outputs": []
    },
    {
      "cell_type": "code",
      "metadata": {
        "id": "wqoOva1N2i44",
        "colab_type": "code",
        "colab": {}
      },
      "source": [
        "! python fashion_mnist/few_shot_train.py"
      ],
      "execution_count": 0,
      "outputs": []
    },
    {
      "cell_type": "code",
      "metadata": {
        "id": "BsD4BPC0bRlz",
        "colab_type": "code",
        "colab": {}
      },
      "source": [
        "! python cifar/few_shot_train.py"
      ],
      "execution_count": 0,
      "outputs": []
    },
    {
      "cell_type": "markdown",
      "metadata": {
        "id": "glkNwjkTbgke",
        "colab_type": "text"
      },
      "source": [
        "# Image Translation"
      ]
    },
    {
      "cell_type": "code",
      "metadata": {
        "id": "kPLiw5CvblYO",
        "colab_type": "code",
        "colab": {}
      },
      "source": [
        "! python mnist/image_translation.py"
      ],
      "execution_count": 0,
      "outputs": []
    },
    {
      "cell_type": "code",
      "metadata": {
        "id": "NxWA86kp2AFh",
        "colab_type": "code",
        "colab": {}
      },
      "source": [
        "! python fashion_mnist/image_translation.py"
      ],
      "execution_count": 0,
      "outputs": []
    },
    {
      "cell_type": "code",
      "metadata": {
        "id": "Qq2OuDK5boLJ",
        "colab_type": "code",
        "colab": {}
      },
      "source": [
        "! python cifar/image_translation.py"
      ],
      "execution_count": 0,
      "outputs": []
    },
    {
      "cell_type": "markdown",
      "metadata": {
        "id": "jQdWRlxFb4BS",
        "colab_type": "text"
      },
      "source": [
        "# Elastic Distortion"
      ]
    },
    {
      "cell_type": "code",
      "metadata": {
        "id": "fJJNaj2lcCIq",
        "colab_type": "code",
        "colab": {}
      },
      "source": [
        "! python mnist/elastic_distortion.py"
      ],
      "execution_count": 0,
      "outputs": []
    },
    {
      "cell_type": "code",
      "metadata": {
        "id": "NVVGLXkD2Fwe",
        "colab_type": "code",
        "colab": {}
      },
      "source": [
        "! python fashion_mnist/elastic_distortion.py"
      ],
      "execution_count": 0,
      "outputs": []
    },
    {
      "cell_type": "code",
      "metadata": {
        "id": "A8WeGC5icE-v",
        "colab_type": "code",
        "colab": {}
      },
      "source": [
        "! python cifar/elastic_distortion.py"
      ],
      "execution_count": 0,
      "outputs": []
    },
    {
      "cell_type": "markdown",
      "metadata": {
        "id": "Lbyzj4YmcHoK",
        "colab_type": "text"
      },
      "source": [
        "# Stroke Warping"
      ]
    },
    {
      "cell_type": "code",
      "metadata": {
        "id": "moalznt1cMSq",
        "colab_type": "code",
        "colab": {}
      },
      "source": [
        "! python mnist/stroke_warping.py"
      ],
      "execution_count": 0,
      "outputs": []
    },
    {
      "cell_type": "code",
      "metadata": {
        "id": "avofchtT2auj",
        "colab_type": "code",
        "colab": {}
      },
      "source": [
        "! python fashion_mnist/stroke_warping.py"
      ],
      "execution_count": 0,
      "outputs": []
    },
    {
      "cell_type": "code",
      "metadata": {
        "id": "WLjlqR3kcPZ-",
        "colab_type": "code",
        "colab": {}
      },
      "source": [
        "! python cifar/stroke_warping.py"
      ],
      "execution_count": 0,
      "outputs": []
    },
    {
      "cell_type": "markdown",
      "metadata": {
        "id": "npzrFkaqcU72",
        "colab_type": "text"
      },
      "source": [
        "# Ensamble Learning"
      ]
    },
    {
      "cell_type": "code",
      "metadata": {
        "id": "KsRApvNrDSHD",
        "colab_type": "code",
        "colab": {}
      },
      "source": [
        "! python mnist/ensemble_learning.py"
      ],
      "execution_count": 0,
      "outputs": []
    },
    {
      "cell_type": "code",
      "metadata": {
        "id": "QJ3ZKU_xuKuQ",
        "colab_type": "code",
        "colab": {}
      },
      "source": [
        "! python fashion_mnist/ensemble_learning.py"
      ],
      "execution_count": 0,
      "outputs": []
    },
    {
      "cell_type": "code",
      "metadata": {
        "id": "krlxBCYmDSeX",
        "colab_type": "code",
        "colab": {}
      },
      "source": [
        "! python cifar/ensemble_learning.py"
      ],
      "execution_count": 0,
      "outputs": []
    },
    {
      "cell_type": "markdown",
      "metadata": {
        "id": "0sKTx276Q5OD",
        "colab_type": "text"
      },
      "source": [
        "# Random Color & Enseble Learning"
      ]
    },
    {
      "cell_type": "code",
      "metadata": {
        "id": "Mbd8G9-HQ-og",
        "colab_type": "code",
        "colab": {}
      },
      "source": [
        "! python cifar/random_color_ensemble_learning.py"
      ],
      "execution_count": 0,
      "outputs": []
    },
    {
      "cell_type": "markdown",
      "metadata": {
        "id": "usfUfdI0D0LT",
        "colab_type": "text"
      },
      "source": [
        "# Remove Repository"
      ]
    },
    {
      "cell_type": "code",
      "metadata": {
        "id": "uqKV62P7DIrt",
        "colab_type": "code",
        "colab": {
          "base_uri": "https://localhost:8080/",
          "height": 34
        },
        "outputId": "60574fea-fbf6-4630-d8e6-d20ba06123af"
      },
      "source": [
        "%cd ..\n",
        "! rm -rf few-shot-learning"
      ],
      "execution_count": 34,
      "outputs": [
        {
          "output_type": "stream",
          "text": [
            "/content\n"
          ],
          "name": "stdout"
        }
      ]
    }
  ]
}