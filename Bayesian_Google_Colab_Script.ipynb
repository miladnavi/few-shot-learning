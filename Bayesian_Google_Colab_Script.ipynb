{
  "nbformat": 4,
  "nbformat_minor": 0,
  "metadata": {
    "colab": {
      "name": "Untitled0.ipynb",
      "provenance": [],
      "collapsed_sections": [],
      "toc_visible": true,
      "authorship_tag": "ABX9TyO0ou7Rq2Nuu8iaZ6VvfoqK",
      "include_colab_link": true
    },
    "kernelspec": {
      "name": "python3",
      "display_name": "Python 3"
    },
    "accelerator": "GPU"
  },
  "cells": [
    {
      "cell_type": "markdown",
      "metadata": {
        "id": "view-in-github",
        "colab_type": "text"
      },
      "source": [
        "<a href=\"https://colab.research.google.com/github/miladnavi/few-shot-learning/blob/master/Bayesian_Google_Colab_Script.ipynb\" target=\"_parent\"><img src=\"https://colab.research.google.com/assets/colab-badge.svg\" alt=\"Open In Colab\"/></a>"
      ]
    },
    {
      "cell_type": "code",
      "metadata": {
        "id": "i1YeTLQVVoCs",
        "colab_type": "code",
        "colab": {}
      },
      "source": [
        "! git clone https://github.com/miladnavi/few-shot-learning"
      ],
      "execution_count": 0,
      "outputs": []
    },
    {
      "cell_type": "code",
      "metadata": {
        "id": "wKWMVLOybKZD",
        "colab_type": "code",
        "colab": {}
      },
      "source": [
        "% cd few-shot-learning/"
      ],
      "execution_count": 0,
      "outputs": []
    },
    {
      "cell_type": "code",
      "metadata": {
        "id": "Li1Fm3nGbNqe",
        "colab_type": "code",
        "colab": {}
      },
      "source": [
        "! pip install -r requirements.txt"
      ],
      "execution_count": 0,
      "outputs": []
    },
    {
      "cell_type": "markdown",
      "metadata": {
        "id": "SqYm4lKVciI3",
        "colab_type": "text"
      },
      "source": [
        "# Generate Few Shot Dataset"
      ]
    },
    {
      "cell_type": "code",
      "metadata": {
        "id": "a22ai_3EcpuR",
        "colab_type": "code",
        "colab": {}
      },
      "source": [
        "!python few_shot_generator.py --dataset mnist "
      ],
      "execution_count": 0,
      "outputs": []
    },
    {
      "cell_type": "code",
      "metadata": {
        "id": "8tihFPwFuALE",
        "colab_type": "code",
        "colab": {}
      },
      "source": [
        "!python few_shot_generator.py --dataset fashion_mnist "
      ],
      "execution_count": 0,
      "outputs": []
    },
    {
      "cell_type": "code",
      "metadata": {
        "id": "uYlOGxMjcytY",
        "colab_type": "code",
        "colab": {}
      },
      "source": [
        "!python few_shot_generator.py --dataset cifar"
      ],
      "execution_count": 0,
      "outputs": []
    },
    {
      "cell_type": "markdown",
      "metadata": {
        "id": "fINwM0icZ523",
        "colab_type": "text"
      },
      "source": [
        "# Random Erasing & Bayesian Approach for MNIST"
      ]
    },
    {
      "cell_type": "code",
      "metadata": {
        "id": "GYsrGjciRrnz",
        "colab_type": "code",
        "colab": {}
      },
      "source": [
        "! python random_erasing_generator.py --dataset mnist"
      ],
      "execution_count": 0,
      "outputs": []
    },
    {
      "cell_type": "code",
      "metadata": {
        "id": "kvd_0FDFdDx8",
        "colab_type": "code",
        "colab": {
          "base_uri": "https://localhost:8080/",
          "height": 34
        },
        "outputId": "98d00d59-0486-4e1d-b11d-4eef02a4333a"
      },
      "source": [
        "% cd bayesian_approach/"
      ],
      "execution_count": 6,
      "outputs": [
        {
          "output_type": "stream",
          "text": [
            "/content/few-shot-learning/bayesian_approach\n"
          ],
          "name": "stdout"
        }
      ]
    },
    {
      "cell_type": "code",
      "metadata": {
        "id": "Kl_J78h8b8cg",
        "colab_type": "code",
        "colab": {}
      },
      "source": [
        "! python main.py --dataset MNIST-ERASING --gpu_mode True"
      ],
      "execution_count": 0,
      "outputs": []
    },
    {
      "cell_type": "markdown",
      "metadata": {
        "colab_type": "text",
        "id": "NsSRfde4ggOv"
      },
      "source": [
        "# Random Erasing & Bayesian Approach for Fashion-MNIST"
      ]
    },
    {
      "cell_type": "code",
      "metadata": {
        "id": "vBg-GOR_g6zW",
        "colab_type": "code",
        "colab": {}
      },
      "source": [
        "% cd .."
      ],
      "execution_count": 0,
      "outputs": []
    },
    {
      "cell_type": "code",
      "metadata": {
        "colab_type": "code",
        "id": "Pcj1uzj6ggOy",
        "colab": {}
      },
      "source": [
        "! python random_erasing_generator.py --dataset fashion_mnist"
      ],
      "execution_count": 0,
      "outputs": []
    },
    {
      "cell_type": "code",
      "metadata": {
        "colab_type": "code",
        "outputId": "98d00d59-0486-4e1d-b11d-4eef02a4333a",
        "id": "bnFQZy6hggO4",
        "colab": {
          "base_uri": "https://localhost:8080/",
          "height": 34
        }
      },
      "source": [
        "% cd bayesian_approach/"
      ],
      "execution_count": 0,
      "outputs": [
        {
          "output_type": "stream",
          "text": [
            "/content/few-shot-learning/bayesian_approach\n"
          ],
          "name": "stdout"
        }
      ]
    },
    {
      "cell_type": "code",
      "metadata": {
        "colab_type": "code",
        "id": "R1UTMm1UggO7",
        "colab": {}
      },
      "source": [
        "! python main.py --dataset FashionMNIST-ERASING --gpu_mode True"
      ],
      "execution_count": 0,
      "outputs": []
    },
    {
      "cell_type": "markdown",
      "metadata": {
        "colab_type": "text",
        "id": "IGUkoEKNhWIP"
      },
      "source": [
        "# Random Erasing & Bayesian Approach for CIFAR-10"
      ]
    },
    {
      "cell_type": "code",
      "metadata": {
        "colab_type": "code",
        "id": "qaHoHtxvhWIR",
        "colab": {}
      },
      "source": [
        "% cd .."
      ],
      "execution_count": 0,
      "outputs": []
    },
    {
      "cell_type": "code",
      "metadata": {
        "colab_type": "code",
        "id": "yrPBeK3vhWIV",
        "colab": {}
      },
      "source": [
        "! python random_erasing_generator.py --dataset cifar"
      ],
      "execution_count": 0,
      "outputs": []
    },
    {
      "cell_type": "code",
      "metadata": {
        "colab_type": "code",
        "outputId": "98d00d59-0486-4e1d-b11d-4eef02a4333a",
        "id": "0iGs8qFEhWIY",
        "colab": {
          "base_uri": "https://localhost:8080/",
          "height": 34
        }
      },
      "source": [
        "% cd bayesian_approach/"
      ],
      "execution_count": 0,
      "outputs": [
        {
          "output_type": "stream",
          "text": [
            "/content/few-shot-learning/bayesian_approach\n"
          ],
          "name": "stdout"
        }
      ]
    },
    {
      "cell_type": "code",
      "metadata": {
        "colab_type": "code",
        "id": "JOeIQVd8hWIb",
        "colab": {}
      },
      "source": [
        "! python main.py --dataset CIFAR-ERASING --gpu_mode True"
      ],
      "execution_count": 0,
      "outputs": []
    }
  ]
}